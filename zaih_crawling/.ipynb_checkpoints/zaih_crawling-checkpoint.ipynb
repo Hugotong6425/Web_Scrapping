{
 "cells": [
  {
   "cell_type": "code",
   "execution_count": 19,
   "metadata": {
    "collapsed": true
   },
   "outputs": [],
   "source": [
    "import requests\n",
    "from bs4 import BeautifulSoup\n",
    "import json\n",
    "import string\n",
    "import unicodedata\n",
    "from datetime import datetime\n",
    "import csv\n",
    "import urllib"
   ]
  },
  {
   "cell_type": "code",
   "execution_count": 20,
   "metadata": {
    "collapsed": true
   },
   "outputs": [],
   "source": [
    "#category_id_list = [398,401,402,403,404,413,419,522,421,432,433,434,435,436,437,438,439,440,441,442,443,444,449,523,\n",
    "#               343,348,357,364,369,374,375,517,528,390,391,392,393,394,395,396,518,451,456,457,464,465,470,473,\n",
    "#               474,477,514,519,527,480,481,482,483,484,516,521,486,487,488,489,490,491,492,493,494,524,496,497,\n",
    "#               498,499,500,501,502,505,525]\n",
    "#region_list = ['beijing','shanghai','shenzhen','guangzhou','hangzhou','chengdu','xian','wuhan','ningbo']\n",
    "category_id_list = [398]\n",
    "region_list = ['beijing']\n",
    "fieldnames = ['tutor_id','topic_id','tutor_name','tutor_title','response_day','num_meet','num_wanna_see',\n",
    "              'acceptance_rate','num_product','tutor_intro','len_tutor_intro','earliest_review_day','day_opened']"
   ]
  },
  {
   "cell_type": "code",
   "execution_count": 21,
   "metadata": {
    "collapsed": true
   },
   "outputs": [],
   "source": [
    "def get_topic_title_link(region, cat_id):\n",
    "    page = 1\n",
    "    while True:\n",
    "        res = requests.get(\"http://www.zaih.com/topics/?category_id=%s&city=%s&page=%d\" % (cat_id, region, page))\n",
    "        soup = BeautifulSoup(res.text)\n",
    "        for link in soup.select(\"a.topic-tutor-link\"):\n",
    "            yield link['href']\n",
    "        if soup.select(\"span.icon.icon-next\") == []:\n",
    "            break\n",
    "        page += 1"
   ]
  },
  {
   "cell_type": "code",
   "execution_count": 28,
   "metadata": {
    "collapsed": true
   },
   "outputs": [],
   "source": [
    "def crawl_tutor_page(region, cat_id, tutor_link):\n",
    "    tutor_id = tutor_link[8:16]\n",
    "    topic_id = tutor_link[23:31]\n",
    "    res = requests.get(\"http://www.zaih.com%s\" % tutor_link)\n",
    "    soup = BeautifulSoup(res.text)\n",
    "    tutor_name = soup.select(\"h1.tutor-name\")[0].text\n",
    "    tutor_title = soup.select(\"p.tutor-title\")[0].text\n",
    "    temp = soup.select(\"span.highlight\")\n",
    "    response_day = temp[0].text\n",
    "    num_meet = temp[1].text\n",
    "    num_wanna_see = temp[2].text\n",
    "    if len(temp) == 4:\n",
    "        acceptance_rate = temp[3].text\n",
    "    else:\n",
    "        acceptance_rate = \"\"\n",
    "    num_product = len(soup.select(\"li.topic-item\"))\n",
    "    tutor_intro = \"\"\n",
    "    for intro in soup.select(\"div.about-tutor-summary\"):\n",
    "        tutor_intro += intro.text \n",
    "    tutor_intro = tutor_intro.strip()\n",
    "    len_tutor_intro = len(tutor_intro)\n",
    "    \n",
    "    # get date of earliest review and the number of day_opened\n",
    "    res2 = requests.get(\"http://www.zaih.com/apis/open/topic_reviews?tutor_id=85071906&offset=0&limit=10000&sort_by=latest\")\n",
    "    soup2 = BeautifulSoup(res2.text)\n",
    "    temp_str_list = unicodedata.normalize('NFKD', soup2.select(\"body\")[0].text).encode('ascii','ignore').split(\"date_created\")\n",
    "    if len(temp_str_list) == 1:\n",
    "        earliest_review_day = \"No review yet\"\n",
    "        day_opened = -1\n",
    "    else:\n",
    "        earliest_review_day = temp_str_list[-1][4:14]\n",
    "        datetime_object = datetime.strptime(earliest_review_day,'%Y-%m-%d')\n",
    "        time_now = datetime.now()\n",
    "        day_opened = (time_now - datetime_object).days\n",
    "        \n",
    "    # crawl tutor image\n",
    "    image_link = soup.select(\"img\")[0]['src']\n",
    "    urllib.urlretrieve(\"http:%s\" % image_link, \"tutor_image/%s_image.jpg\" % tutor_id)\n",
    "    \n",
    "    # write into a csv file    \n",
    "    with open('names.csv', 'wb') as csvfile:\n",
    "        writer = csv.writer(csvfile, delimiter=',')\n",
    "        \n",
    "        writer.writerow({'tutor_id': tutor_id, 'topic_id': topic_id, 'tutor_name': tutor_name, 'tutor_title': tutor_title,\n",
    "                         'response_day': response_day, 'num_meet': num_meet, 'num_wanna_see': num_wanna_see,\n",
    "                         'acceptance_rate': acceptance_rate, 'num_product': num_product, 'tutor_intro': tutor_intro,\n",
    "                         'len_tutor_intro': len_tutor_intro, 'earliest_review_day': earliest_review_day, 'day_opened': day_opened})"
   ]
  },
  {
   "cell_type": "code",
   "execution_count": null,
   "metadata": {},
   "outputs": [],
   "source": []
  },
  {
   "cell_type": "code",
   "execution_count": 29,
   "metadata": {},
   "outputs": [
    {
     "ename": "Error",
     "evalue": "sequence expected",
     "output_type": "error",
     "traceback": [
      "\u001b[0;31m---------------------------------------------------------------------------\u001b[0m",
      "\u001b[0;31mError\u001b[0m                                     Traceback (most recent call last)",
      "\u001b[0;32m<ipython-input-29-5365a69c8ca6>\u001b[0m in \u001b[0;36m<module>\u001b[0;34m()\u001b[0m\n\u001b[1;32m     11\u001b[0m         \u001b[0;31m# crawl each mentor's page\u001b[0m\u001b[0;34m\u001b[0m\u001b[0;34m\u001b[0m\u001b[0m\n\u001b[1;32m     12\u001b[0m         \u001b[0;32mfor\u001b[0m \u001b[0mtutor_link\u001b[0m \u001b[0;32min\u001b[0m \u001b[0mtopic_title_link\u001b[0m\u001b[0;34m:\u001b[0m\u001b[0;34m\u001b[0m\u001b[0m\n\u001b[0;32m---> 13\u001b[0;31m             \u001b[0mcrawl_tutor_page\u001b[0m\u001b[0;34m(\u001b[0m\u001b[0mregion\u001b[0m\u001b[0;34m,\u001b[0m \u001b[0mcat_id\u001b[0m\u001b[0;34m,\u001b[0m \u001b[0mtutor_link\u001b[0m\u001b[0;34m)\u001b[0m\u001b[0;34m\u001b[0m\u001b[0m\n\u001b[0m",
      "\u001b[0;32m<ipython-input-28-403e9b3f965a>\u001b[0m in \u001b[0;36mcrawl_tutor_page\u001b[0;34m(region, cat_id, tutor_link)\u001b[0m\n\u001b[1;32m     45\u001b[0m                          \u001b[0;34m'response_day'\u001b[0m\u001b[0;34m:\u001b[0m \u001b[0mresponse_day\u001b[0m\u001b[0;34m,\u001b[0m \u001b[0;34m'num_meet'\u001b[0m\u001b[0;34m:\u001b[0m \u001b[0mnum_meet\u001b[0m\u001b[0;34m,\u001b[0m \u001b[0;34m'num_wanna_see'\u001b[0m\u001b[0;34m:\u001b[0m \u001b[0mnum_wanna_see\u001b[0m\u001b[0;34m,\u001b[0m\u001b[0;34m\u001b[0m\u001b[0m\n\u001b[1;32m     46\u001b[0m                          \u001b[0;34m'acceptance_rate'\u001b[0m\u001b[0;34m:\u001b[0m \u001b[0macceptance_rate\u001b[0m\u001b[0;34m,\u001b[0m \u001b[0;34m'num_product'\u001b[0m\u001b[0;34m:\u001b[0m \u001b[0mnum_product\u001b[0m\u001b[0;34m,\u001b[0m \u001b[0;34m'tutor_intro'\u001b[0m\u001b[0;34m:\u001b[0m \u001b[0mtutor_intro\u001b[0m\u001b[0;34m,\u001b[0m\u001b[0;34m\u001b[0m\u001b[0m\n\u001b[0;32m---> 47\u001b[0;31m                          'len_tutor_intro': len_tutor_intro, 'earliest_review_day': earliest_review_day, 'day_opened': day_opened})\n\u001b[0m",
      "\u001b[0;31mError\u001b[0m: sequence expected"
     ]
    }
   ],
   "source": [
    "# main program starts\n",
    "# for each pair of region and catalog_id\n",
    "for region in region_list:\n",
    "    for cat_id in category_id_list:\n",
    "        # reset the list\n",
    "        topic_title_link = []\n",
    "        \n",
    "        # get all mentor page link under the same region and categories\n",
    "        topic_title_link += get_topic_title_link(region, cat_id)\n",
    "        \n",
    "        # crawl each mentor's page\n",
    "        for tutor_link in topic_title_link:\n",
    "            crawl_tutor_page(region, cat_id, tutor_link)"
   ]
  },
  {
   "cell_type": "code",
   "execution_count": null,
   "metadata": {
    "collapsed": true
   },
   "outputs": [],
   "source": []
  }
 ],
 "metadata": {
  "kernelspec": {
   "display_name": "Python 2",
   "language": "python",
   "name": "python2"
  },
  "language_info": {
   "codemirror_mode": {
    "name": "ipython",
    "version": 2
   },
   "file_extension": ".py",
   "mimetype": "text/x-python",
   "name": "python",
   "nbconvert_exporter": "python",
   "pygments_lexer": "ipython2",
   "version": "2.7.13"
  }
 },
 "nbformat": 4,
 "nbformat_minor": 2
}
